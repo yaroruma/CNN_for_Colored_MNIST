{
 "cells": [
  {
   "cell_type": "markdown",
   "id": "adequate-battery",
   "metadata": {},
   "source": [
    "# Image data augmentation"
   ]
  },
  {
   "cell_type": "code",
   "execution_count": 1,
   "id": "polar-exploration",
   "metadata": {},
   "outputs": [],
   "source": [
    "import torch\n",
    "import numpy as np\n",
    "import torchvision\n",
    "from torchvision import datasets\n",
    "import matplotlib.pyplot as plt"
   ]
  },
  {
   "cell_type": "code",
   "execution_count": 2,
   "id": "southeast-crime",
   "metadata": {},
   "outputs": [],
   "source": [
    "# 배경 패턴 추가시 300*300 이미지를 imread로 읽어서 pts리스트에 추가할 것\n",
    "pt1 = plt.imread('patterns/pt1.jpg')\n",
    "pt2 = plt.imread('patterns/pt2.jpg')\n",
    "pt3 = plt.imread('patterns/pt3.jpg')\n",
    "pts = [pt1, pt2, pt3]\n",
    "train_data = datasets.MNIST('./', train = True, download = False, transform = torchvision.transforms.ToTensor())"
   ]
  },
  {
   "cell_type": "code",
   "execution_count": 3,
   "id": "irish-writing",
   "metadata": {},
   "outputs": [],
   "source": [
    "def augmentation(img, mode, pt, pt2 = None): \n",
    "    img = img.repeat(3, 1, 1)\n",
    "    img = (img*255).numpy().astype(np.uint8)\n",
    "    img = np.transpose(img, (1, 2, 0))\n",
    "    r = np.random.randint(272)\n",
    "    #mode 0 : 배경 입히기(테두리 있음)\n",
    "    if mode == 0:\n",
    "        img = np.where(img > 0, img, img + pt[r:r+28,r:r+28])\n",
    "\n",
    "    #mode 1 : 숫자부분을 패턴 이미지로 대체(색칠)\n",
    "    elif mode == 1:\n",
    "        img = np.where(img > 0, pt[r:r+28,r:r+28], img)\n",
    "\n",
    "    #mode 2 : 숫자부분을 페턴이미지로 대체하고 배경을 다른 패턴이미지로 사용(테두리 없음)\n",
    "    elif mode == 2:\n",
    "        r2 = np.random.randint(272)\n",
    "        img = np.where(img > 0, pt[r:r+28,r:r+28] , pt2[r2:r2+28,r2:r2+28])\n",
    "\n",
    "    #mode 3 : 중앙부분에 흰색 네모 박스 생성(가림)\n",
    "    else:\n",
    "        r = np.random.randint(7) # 박스 크기\n",
    "        r2 = np.random.randint(14) #박스 시작점 위치\n",
    "        box = np.zeros_like(img)\n",
    "        box[7+r2:r2+r+7, 7+r2:r2+r+7] = 255\n",
    "        img = np.where(box > 0, box, img)\n",
    "\n",
    "    return img"
   ]
  },
  {
   "cell_type": "code",
   "execution_count": 5,
   "id": "vocal-childhood",
   "metadata": {
    "scrolled": true
   },
   "outputs": [],
   "source": [
    "results = []\n",
    "for i, data in enumerate(train_data, 0):\n",
    "    inputs, labels = data\n",
    "    mode = np.random.randint(4) #한 가지 모드만 사용할 때는 변경\n",
    "    ptns = list(range(len(pts)))\n",
    "    ptn1 = ptns.pop(np.random.randint(len(ptns)))\n",
    "    ptn2 = ptns.pop(np.random.randint(len(ptns)))\n",
    "    outputs = augmentation(inputs, mode, pts[ptn1], pts[ptn2])\n",
    "    path = 'images/' + format(i, '06') + '.png'\n",
    "    plt.imsave(path, outputs)\n",
    "    results.append(labels)\n",
    "    #작업 내역을 보고싶을 때 사용\n",
    "    '''if i % 2000 == 0:\n",
    "        plt.imshow(outputs)\n",
    "        plt.show()\n",
    "    '''\n",
    "np.savetxt(\"label.txt\", np.array(results), fmt='%d', delimiter='\\n')"
   ]
  },
  {
   "cell_type": "code",
   "execution_count": null,
   "id": "academic-spanish",
   "metadata": {},
   "outputs": [],
   "source": [
    "#########################\n",
    "#데이터를 불러올 때 사용#\n",
    "#########################\n",
    "\n",
    "#이미지 데이터는 템플릿의 run.py 참고\n",
    "\n",
    "label = numpy.loadtxt(\"label.txt\", delimiter='\\n')"
   ]
  }
 ],
 "metadata": {
  "kernelspec": {
   "display_name": "deep",
   "language": "python",
   "name": "deep"
  },
  "language_info": {
   "codemirror_mode": {
    "name": "ipython",
    "version": 3
   },
   "file_extension": ".py",
   "mimetype": "text/x-python",
   "name": "python",
   "nbconvert_exporter": "python",
   "pygments_lexer": "ipython3",
   "version": "3.9.1"
  }
 },
 "nbformat": 4,
 "nbformat_minor": 5
}
